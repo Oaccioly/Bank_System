{
  "nbformat": 4,
  "nbformat_minor": 0,
  "metadata": {
    "colab": {
      "name": "BankSystem.ipynb",
      "provenance": [],
      "collapsed_sections": [],
      "authorship_tag": "ABX9TyNF2E5OH9/E9Jp0qrOtQh7G",
      "include_colab_link": true
    },
    "kernelspec": {
      "name": "python3",
      "display_name": "Python 3"
    }
  },
  "cells": [
    {
      "cell_type": "markdown",
      "metadata": {
        "id": "view-in-github",
        "colab_type": "text"
      },
      "source": [
        "<a href=\"https://colab.research.google.com/github/Oaccioly/Bank_System/blob/main/BankSystem.ipynb\" target=\"_parent\"><img src=\"https://colab.research.google.com/assets/colab-badge.svg\" alt=\"Open In Colab\"/></a>"
      ]
    },
    {
      "cell_type": "markdown",
      "metadata": {
        "id": "E52OqCov-8YR"
      },
      "source": [
        "# Bibliotecas"
      ]
    },
    {
      "cell_type": "code",
      "metadata": {
        "id": "Di_c8sEH-_LB"
      },
      "source": [
        "import pandas as pd"
      ],
      "execution_count": 125,
      "outputs": []
    },
    {
      "cell_type": "markdown",
      "metadata": {
        "id": "uzco4U2F-09-"
      },
      "source": [
        "# Setup"
      ]
    },
    {
      "cell_type": "code",
      "metadata": {
        "colab": {
          "base_uri": "https://localhost:8080/",
          "height": 112
        },
        "id": "9JKqb5Qd103x",
        "outputId": "d13cb34a-6271-4ea4-ef20-966cb776f079"
      },
      "source": [
        "ids = []\n",
        "accounts_df = pd.DataFrame({\"Id\": [],\n",
        "                         \"Name\": [],\n",
        "                         \"Balance\": [}) \n",
        "\n",
        "accounts = accounts.append(pd.DataFrame({\"Id\": [\"200-2\"],\n",
        "                                        \"Name\": [\"Gabriela\"],\n",
        "                                        \"Balance\": [5000]}, index = [accounts.last_valid_index()+1]))\n",
        "\n",
        "accounts"
      ],
      "execution_count": 212,
      "outputs": [
        {
          "output_type": "execute_result",
          "data": {
            "text/html": [
              "<div>\n",
              "<style scoped>\n",
              "    .dataframe tbody tr th:only-of-type {\n",
              "        vertical-align: middle;\n",
              "    }\n",
              "\n",
              "    .dataframe tbody tr th {\n",
              "        vertical-align: top;\n",
              "    }\n",
              "\n",
              "    .dataframe thead th {\n",
              "        text-align: right;\n",
              "    }\n",
              "</style>\n",
              "<table border=\"1\" class=\"dataframe\">\n",
              "  <thead>\n",
              "    <tr style=\"text-align: right;\">\n",
              "      <th></th>\n",
              "      <th>Id</th>\n",
              "      <th>Name</th>\n",
              "      <th>Balance</th>\n",
              "    </tr>\n",
              "  </thead>\n",
              "  <tbody>\n",
              "    <tr>\n",
              "      <th>0</th>\n",
              "      <td>200-1</td>\n",
              "      <td>Gabriel</td>\n",
              "      <td>2000</td>\n",
              "    </tr>\n",
              "    <tr>\n",
              "      <th>1</th>\n",
              "      <td>200-2</td>\n",
              "      <td>Gabriela</td>\n",
              "      <td>5000</td>\n",
              "    </tr>\n",
              "  </tbody>\n",
              "</table>\n",
              "</div>"
            ],
            "text/plain": [
              "      Id      Name  Balance\n",
              "0  200-1   Gabriel     2000\n",
              "1  200-2  Gabriela     5000"
            ]
          },
          "metadata": {
            "tags": []
          },
          "execution_count": 212
        }
      ]
    },
    {
      "cell_type": "code",
      "metadata": {
        "colab": {
          "base_uri": "https://localhost:8080/"
        },
        "id": "w4DY53NZuyl_",
        "outputId": "28498daa-7daa-4d0a-eef0-cdba0fdd4c1f"
      },
      "source": [
        ""
      ],
      "execution_count": 206,
      "outputs": [
        {
          "output_type": "execute_result",
          "data": {
            "text/plain": [
              "1"
            ]
          },
          "metadata": {
            "tags": []
          },
          "execution_count": 206
        }
      ]
    },
    {
      "cell_type": "code",
      "metadata": {
        "id": "TYEcLmmC10ws"
      },
      "source": [
        "def ids_generator():\n",
        "    try:\n",
        "        ids.append(\"202-\" + str(int(ids[-1].split(\"-\")[1]) + 1))\n",
        "        return ids[-1]\n",
        "\n",
        "    except IndexError:\n",
        "        ids.append(\"202-0\")\n",
        "        return ids[-1]"
      ],
      "execution_count": 127,
      "outputs": []
    },
    {
      "cell_type": "code",
      "metadata": {
        "id": "Ry6Qu84gEeq8"
      },
      "source": [
        "def to_dataframe(id, name, balance):\n",
        "    if accounts_df.isna:\n",
        "        accounts_df = pd.DataFrame({\"Id\": [id],\n",
        "                                    \"Name\": [name],\n",
        "                                    \"Balance\": [balance]}) \n",
        "        \n",
        "    else:\n",
        "        accounts_df = accounts_df.append(pd.DataFrame({\"Id\": [id],\n",
        "                                                       \"Name\": [name],\n",
        "                                                       \"Balance\": [balance]},\n",
        "                                                        index = [accounts.last_valid_index()+1]))\n",
        "        "
      ],
      "execution_count": 214,
      "outputs": []
    },
    {
      "cell_type": "code",
      "metadata": {
        "colab": {
          "base_uri": "https://localhost:8080/",
          "height": 112
        },
        "id": "qctvZoOOvxZB",
        "outputId": "d13cb34a-6271-4ea4-ef20-966cb776f079"
      },
      "source": [
        "ids = []\n",
        "accounts_df = pd.DataFrame({\"Id\": [],\n",
        "                         \"Name\": [],\n",
        "                         \"Balance\": [}) \n",
        "\n",
        "accounts = accounts.append(pd.DataFrame({\"Id\": [\"200-2\"],\n",
        "                                        \"Name\": [\"Gabriela\"],\n",
        "                                        \"Balance\": [5000]}, index = [accounts.last_valid_index()+1]))\n",
        "\n",
        "accounts"
      ],
      "execution_count": null,
      "outputs": [
        {
          "output_type": "execute_result",
          "data": {
            "text/html": [
              "<div>\n",
              "<style scoped>\n",
              "    .dataframe tbody tr th:only-of-type {\n",
              "        vertical-align: middle;\n",
              "    }\n",
              "\n",
              "    .dataframe tbody tr th {\n",
              "        vertical-align: top;\n",
              "    }\n",
              "\n",
              "    .dataframe thead th {\n",
              "        text-align: right;\n",
              "    }\n",
              "</style>\n",
              "<table border=\"1\" class=\"dataframe\">\n",
              "  <thead>\n",
              "    <tr style=\"text-align: right;\">\n",
              "      <th></th>\n",
              "      <th>Id</th>\n",
              "      <th>Name</th>\n",
              "      <th>Balance</th>\n",
              "    </tr>\n",
              "  </thead>\n",
              "  <tbody>\n",
              "    <tr>\n",
              "      <th>0</th>\n",
              "      <td>200-1</td>\n",
              "      <td>Gabriel</td>\n",
              "      <td>2000</td>\n",
              "    </tr>\n",
              "    <tr>\n",
              "      <th>1</th>\n",
              "      <td>200-2</td>\n",
              "      <td>Gabriela</td>\n",
              "      <td>5000</td>\n",
              "    </tr>\n",
              "  </tbody>\n",
              "</table>\n",
              "</div>"
            ],
            "text/plain": [
              "      Id      Name  Balance\n",
              "0  200-1   Gabriel     2000\n",
              "1  200-2  Gabriela     5000"
            ]
          },
          "metadata": {
            "tags": []
          },
          "execution_count": 212
        }
      ]
    },
    {
      "cell_type": "markdown",
      "metadata": {
        "id": "7gKznVegNnEw"
      },
      "source": [
        "# Classes"
      ]
    },
    {
      "cell_type": "markdown",
      "metadata": {
        "id": "4H4F_p2aNsrq"
      },
      "source": [
        "## Classe sistema"
      ]
    },
    {
      "cell_type": "code",
      "metadata": {
        "id": "qG6AysT0Ns7r"
      },
      "source": [
        "class Sistema:\n",
        "    pass"
      ],
      "execution_count": 128,
      "outputs": []
    },
    {
      "cell_type": "markdown",
      "metadata": {
        "id": "VNyUGMrDNkNR"
      },
      "source": [
        "## Classe conta"
      ]
    },
    {
      "cell_type": "code",
      "metadata": {
        "id": "KqORKAcEj1Iq"
      },
      "source": [
        "class Account:\n",
        "    def __init__(self, Name, Balance = 0):\n",
        "        self.__id = ids_generator()\n",
        "        self._name = Name.title()\n",
        "        self.__balance = Balance\n",
        "        print(f\"Account {self.__id} created in the name of {self._name}\\n\"\n",
        "              f\"Balance: {self.__balance}\")\n",
        "\n",
        "    def __str__(self):\n",
        "        return f\"Account de id {self.__id} in the name of {self._name}\"\n",
        "\n",
        "    @property\n",
        "    def balance(self):\n",
        "        return self.__balance\n",
        "\n",
        "    @balance.setter\n",
        "    def balance(self, amount: int):\n",
        "        self.__balance = amount\n",
        "\n",
        "    def statement_balance(self):\n",
        "        print(f\"Balance: $ {self.__balance}\")\n",
        "        return self.__balance\n",
        "    \n",
        "    def withdrawn(self, amount):\n",
        "        if self.__balance >= amount:\n",
        "            self.__balance -= amount\n",
        "            print(f\"Amount withdrawn: {amount}\")\n",
        "            self.statement_balance()\n",
        "\n",
        "    def deposit(self, amount: int):\n",
        "        self.__balance += amount\n",
        "        self.statement_balance()\n"
      ],
      "execution_count": 129,
      "outputs": []
    },
    {
      "cell_type": "code",
      "metadata": {
        "id": "C9SX1eVPlEI3",
        "colab": {
          "base_uri": "https://localhost:8080/"
        },
        "outputId": "1bdff989-b729-4a9a-a30d-3ed64c168a67"
      },
      "source": [
        "account = Account(\"Gabriel\", 2000)"
      ],
      "execution_count": 130,
      "outputs": [
        {
          "output_type": "stream",
          "text": [
            "Account 202-0 created in the name of Gabriel\n",
            "Balance: 2000\n"
          ],
          "name": "stdout"
        }
      ]
    },
    {
      "cell_type": "code",
      "metadata": {
        "id": "sZg-G30jnC0t",
        "colab": {
          "base_uri": "https://localhost:8080/"
        },
        "outputId": "4077fbc3-4449-4ee8-d72a-cd9683b15b26"
      },
      "source": [
        "account.withdrawn(200)"
      ],
      "execution_count": 131,
      "outputs": [
        {
          "output_type": "stream",
          "text": [
            "Amount withdrawn: 200\n",
            "Balance: $ 1800\n"
          ],
          "name": "stdout"
        }
      ]
    },
    {
      "cell_type": "code",
      "metadata": {
        "colab": {
          "base_uri": "https://localhost:8080/"
        },
        "id": "e85qAxmcPKD1",
        "outputId": "23feddea-ad39-4fbb-f1d7-f2dbad080109"
      },
      "source": [
        "account.deposit(200)"
      ],
      "execution_count": 132,
      "outputs": [
        {
          "output_type": "stream",
          "text": [
            "Balance: $ 2000\n"
          ],
          "name": "stdout"
        }
      ]
    },
    {
      "cell_type": "code",
      "metadata": {
        "colab": {
          "base_uri": "https://localhost:8080/"
        },
        "id": "_OPdDmK8fLyL",
        "outputId": "9596db8e-ffdf-4b87-d4a3-10b5794e80f6"
      },
      "source": [
        "print(account)"
      ],
      "execution_count": 133,
      "outputs": [
        {
          "output_type": "stream",
          "text": [
            "Account de id 202-0 in the name of Gabriel\n"
          ],
          "name": "stdout"
        }
      ]
    }
  ]
}